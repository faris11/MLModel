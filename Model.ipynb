{
  "nbformat": 4,
  "nbformat_minor": 0,
  "metadata": {
    "colab": {
      "name": "Model.ipynb",
      "provenance": [],
      "collapsed_sections": [
        "kz2j2ZAcEgLQ",
        "vJyIbolZHCVu",
        "AVeFXRoOH-Nj",
        "ezuz5WM-Luyj",
        "7b4PY4caL6Xq"
      ],
      "authorship_tag": "ABX9TyO4iZvi+56DZGvaxpKbsHvl",
      "include_colab_link": true
    },
    "kernelspec": {
      "name": "python3",
      "display_name": "Python 3"
    },
    "language_info": {
      "name": "python"
    }
  },
  "cells": [
    {
      "cell_type": "markdown",
      "metadata": {
        "id": "view-in-github",
        "colab_type": "text"
      },
      "source": [
        "<a href=\"https://colab.research.google.com/github/faris11/MLModel/blob/main/Model.ipynb\" target=\"_parent\"><img src=\"https://colab.research.google.com/assets/colab-badge.svg\" alt=\"Open In Colab\"/></a>"
      ]
    },
    {
      "cell_type": "markdown",
      "metadata": {
        "id": "kz2j2ZAcEgLQ"
      },
      "source": [
        "# **Loading Data**"
      ]
    },
    {
      "cell_type": "code",
      "metadata": {
        "id": "EPos8RXThkFU"
      },
      "source": [
        "import pandas as pd"
      ],
      "execution_count": 100,
      "outputs": []
    },
    {
      "cell_type": "code",
      "metadata": {
        "id": "rbtQ08vgheHP"
      },
      "source": [
        "dataset = pd.read_csv('https://gist.githubusercontent.com/netj/8836201/raw/6f9306ad21398ea43cba4f7d537619d0e07d5ae3/iris.csv')\n",
        "dataset"
      ],
      "execution_count": null,
      "outputs": []
    },
    {
      "cell_type": "code",
      "metadata": {
        "id": "Xo9-sLpLjbTr"
      },
      "source": [
        "dataset.head()"
      ],
      "execution_count": null,
      "outputs": []
    },
    {
      "cell_type": "code",
      "metadata": {
        "id": "f_QOtNIojeDa"
      },
      "source": [
        "dataset.tail()"
      ],
      "execution_count": null,
      "outputs": []
    },
    {
      "cell_type": "code",
      "metadata": {
        "id": "A76KuKO2jtWr"
      },
      "source": [
        "dataset.sample(15)"
      ],
      "execution_count": null,
      "outputs": []
    },
    {
      "cell_type": "code",
      "metadata": {
        "id": "23U1kasdiJwS"
      },
      "source": [
        "dataset.info()"
      ],
      "execution_count": null,
      "outputs": []
    },
    {
      "cell_type": "code",
      "metadata": {
        "id": "lS5MDMuIh_6D"
      },
      "source": [
        "dataset.describe()"
      ],
      "execution_count": null,
      "outputs": []
    },
    {
      "cell_type": "code",
      "metadata": {
        "id": "MWfbnSuZkCui"
      },
      "source": [
        "dataset.isnull().sum()"
      ],
      "execution_count": null,
      "outputs": []
    },
    {
      "cell_type": "code",
      "metadata": {
        "id": "MWWYjQDVkF5E"
      },
      "source": [
        "#Memeriksan Nan\n",
        "dataset.isna().sum()"
      ],
      "execution_count": null,
      "outputs": []
    },
    {
      "cell_type": "code",
      "metadata": {
        "id": "aCp_a30dkjPt"
      },
      "source": [
        "pd.isna(dataset['sepal.length'])"
      ],
      "execution_count": null,
      "outputs": []
    },
    {
      "cell_type": "code",
      "metadata": {
        "id": "XSp4hHLlk27a"
      },
      "source": [
        "dataset['sepal.length'].fillna(0)\n",
        "dataset['sepal.length'].fillna(\"missing\")"
      ],
      "execution_count": null,
      "outputs": []
    },
    {
      "cell_type": "code",
      "metadata": {
        "id": "j6AxqcuklNSy"
      },
      "source": [
        "dataset.index.duplicated()"
      ],
      "execution_count": null,
      "outputs": []
    },
    {
      "cell_type": "code",
      "metadata": {
        "id": "kKup5iLIihS7"
      },
      "source": [
        "x = pd.DataFrame(data=dataset)\n",
        "x.drop('variety', axis=1, inplace=True)\n",
        "x"
      ],
      "execution_count": null,
      "outputs": []
    },
    {
      "cell_type": "code",
      "metadata": {
        "id": "s9wib7MwiqpJ"
      },
      "source": [
        "y = dataset['variety']\n",
        "y"
      ],
      "execution_count": null,
      "outputs": []
    },
    {
      "cell_type": "code",
      "metadata": {
        "id": "qKv-Q63Qim7T"
      },
      "source": [
        "y.unique()"
      ],
      "execution_count": null,
      "outputs": []
    },
    {
      "cell_type": "code",
      "metadata": {
        "id": "6TiVqoEUjJfD"
      },
      "source": [
        "y = y.map({'Setosa': 0, 'Versicolor': 1, 'Virginica':2})"
      ],
      "execution_count": 116,
      "outputs": []
    },
    {
      "cell_type": "markdown",
      "metadata": {
        "id": "vJyIbolZHCVu"
      },
      "source": [
        "# **Data Split**"
      ]
    },
    {
      "cell_type": "code",
      "metadata": {
        "id": "okSEXSdHiZ6D"
      },
      "source": [
        "from sklearn.model_selection import train_test_split, cross_validate\n",
        "from sklearn.metrics import accuracy_score, precision_recall_fscore_support, classification_report, confusion_matrix"
      ],
      "execution_count": 119,
      "outputs": []
    },
    {
      "cell_type": "code",
      "metadata": {
        "id": "44EYFOcwlZsS"
      },
      "source": [
        "x_train, x_test, y_train, y_test = train_test_split(x, y, test_size = 0.20, random_state = 1)"
      ],
      "execution_count": 120,
      "outputs": []
    },
    {
      "cell_type": "code",
      "metadata": {
        "id": "jhD87JfWHfP_"
      },
      "source": [
        "x_train"
      ],
      "execution_count": null,
      "outputs": []
    },
    {
      "cell_type": "code",
      "metadata": {
        "id": "gDVyT9F9HiYn"
      },
      "source": [
        "y_train"
      ],
      "execution_count": null,
      "outputs": []
    },
    {
      "cell_type": "code",
      "metadata": {
        "id": "60HVkzmjli7b"
      },
      "source": [
        "x_train.count()"
      ],
      "execution_count": null,
      "outputs": []
    },
    {
      "cell_type": "code",
      "metadata": {
        "id": "3V-hO3yglqyq"
      },
      "source": [
        "x_test.count()"
      ],
      "execution_count": null,
      "outputs": []
    },
    {
      "cell_type": "markdown",
      "metadata": {
        "id": "AVeFXRoOH-Nj"
      },
      "source": [
        "# **Model**"
      ]
    },
    {
      "cell_type": "code",
      "metadata": {
        "id": "3HVykzTUnoJD"
      },
      "source": [
        "from sklearn.naive_bayes import GaussianNB\n",
        "from sklearn import tree\n",
        "from sklearn import svm"
      ],
      "execution_count": 125,
      "outputs": []
    },
    {
      "cell_type": "code",
      "metadata": {
        "id": "xLkXbb5qou0J"
      },
      "source": [
        "model_NB = GaussianNB()"
      ],
      "execution_count": 126,
      "outputs": []
    },
    {
      "cell_type": "code",
      "metadata": {
        "id": "RDcqBRCVo7S6"
      },
      "source": [
        "model_NB.fit(x_train, y_train)"
      ],
      "execution_count": null,
      "outputs": []
    },
    {
      "cell_type": "code",
      "metadata": {
        "id": "PRkgDESIpGQK"
      },
      "source": [
        "y_pred = model_NB.predict(x_test)"
      ],
      "execution_count": 128,
      "outputs": []
    },
    {
      "cell_type": "code",
      "metadata": {
        "id": "lWF9ZEocIpwi"
      },
      "source": [
        "y_pred"
      ],
      "execution_count": null,
      "outputs": []
    },
    {
      "cell_type": "markdown",
      "metadata": {
        "id": "ezuz5WM-Luyj"
      },
      "source": [
        "# **Result**"
      ]
    },
    {
      "cell_type": "code",
      "metadata": {
        "id": "GQY8KryypQOz"
      },
      "source": [
        "print(\"Akurasi yang diperoleh adalah \", accuracy_score(y_test, y_pred))"
      ],
      "execution_count": null,
      "outputs": []
    },
    {
      "cell_type": "code",
      "metadata": {
        "id": "vl97yiJ_qqai"
      },
      "source": [
        "precision_recall_fscore_support(y_test, y_pred, average='weighted')"
      ],
      "execution_count": null,
      "outputs": []
    },
    {
      "cell_type": "code",
      "metadata": {
        "id": "4WIiWURzrB47"
      },
      "source": [
        "print(classification_report(y_test, y_pred))"
      ],
      "execution_count": null,
      "outputs": []
    },
    {
      "cell_type": "code",
      "metadata": {
        "id": "KWb2oNpDomDi"
      },
      "source": [
        "model_DT = tree.DecisionTreeClassifier(max_depth=2)"
      ],
      "execution_count": 150,
      "outputs": []
    },
    {
      "cell_type": "code",
      "metadata": {
        "id": "FntrKoioqGAX"
      },
      "source": [
        "model_DT.fit(x_train, y_train)"
      ],
      "execution_count": null,
      "outputs": []
    },
    {
      "cell_type": "code",
      "metadata": {
        "id": "y5Hw9LPCJ2LZ"
      },
      "source": [
        "tree.plot_tree(model_DT)  "
      ],
      "execution_count": null,
      "outputs": []
    },
    {
      "cell_type": "code",
      "metadata": {
        "id": "FIYWRSjMrbP0"
      },
      "source": [
        "y_pred1 = model_DT.predict(x_test)"
      ],
      "execution_count": 139,
      "outputs": []
    },
    {
      "cell_type": "code",
      "metadata": {
        "id": "38LRtfgvrgUI"
      },
      "source": [
        "print(classification_report(y_test, y_pred1))"
      ],
      "execution_count": null,
      "outputs": []
    },
    {
      "cell_type": "code",
      "metadata": {
        "id": "UuTTLuVQ0HiS"
      },
      "source": [
        "confmatrix_DT = confusion_matrix(y_test, y_pred1)"
      ],
      "execution_count": 141,
      "outputs": []
    },
    {
      "cell_type": "code",
      "metadata": {
        "id": "4DuaFPoq0jO7"
      },
      "source": [
        "print(confmatrix_DT)"
      ],
      "execution_count": null,
      "outputs": []
    },
    {
      "cell_type": "code",
      "metadata": {
        "id": "48yRPeVc0qH1"
      },
      "source": [
        "import seaborn as sns"
      ],
      "execution_count": 143,
      "outputs": []
    },
    {
      "cell_type": "code",
      "metadata": {
        "id": "N2KANsvR0rBL"
      },
      "source": [
        "sns.heatmap(confmatrix_DT, annot=True)"
      ],
      "execution_count": null,
      "outputs": []
    },
    {
      "cell_type": "code",
      "metadata": {
        "id": "lM7IGUjlsLcI"
      },
      "source": [
        "from sklearn.model_selection import cross_val_score"
      ],
      "execution_count": 147,
      "outputs": []
    },
    {
      "cell_type": "code",
      "metadata": {
        "id": "XLF-CjlVst_v"
      },
      "source": [
        "CVScore_NB = cross_val_score(model_NB, x, y, cv=5)"
      ],
      "execution_count": 148,
      "outputs": []
    },
    {
      "cell_type": "code",
      "metadata": {
        "id": "ALnQVu9Ptr-K"
      },
      "source": [
        "CVScore_NB"
      ],
      "execution_count": null,
      "outputs": []
    },
    {
      "cell_type": "markdown",
      "metadata": {
        "id": "7b4PY4caL6Xq"
      },
      "source": [
        "# **Visualization**"
      ]
    },
    {
      "cell_type": "code",
      "metadata": {
        "id": "ffnvNMV9usdZ"
      },
      "source": [
        "from matplotlib import pyplot as plt"
      ],
      "execution_count": 144,
      "outputs": []
    },
    {
      "cell_type": "code",
      "metadata": {
        "id": "JovbTKA5uvQw"
      },
      "source": [
        "x = dataset['sepal.length']\n",
        "y = dataset['petal.length']\n",
        "\n",
        "plt.figure(figsize=(8, 8))\n",
        "\n",
        "plt.scatter(x, y)\n",
        "\n",
        "plt.xlabel('Sepal Length')\n",
        "plt.ylabel('Petal Length')\n",
        "\n",
        "plt.show()"
      ],
      "execution_count": null,
      "outputs": []
    },
    {
      "cell_type": "code",
      "metadata": {
        "id": "nTo4Zcjixp8o"
      },
      "source": [
        "groups = dataset.groupby(\"variety\")\n",
        "\n",
        "plt.figure(figsize=(8, 8))\n",
        "for name, group in groups:\n",
        "    plt.plot(group[\"sepal.length\"], group[\"petal.length\"], marker=\"o\", linestyle=\"\", label=name)\n",
        "plt.legend()"
      ],
      "execution_count": null,
      "outputs": []
    }
  ]
}